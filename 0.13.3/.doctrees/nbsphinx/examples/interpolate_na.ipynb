{
 "cells": [
  {
   "cell_type": "markdown",
   "metadata": {},
   "source": [
    "# Example - Interpolate Missing Data"
   ]
  },
  {
   "cell_type": "code",
   "execution_count": 1,
   "metadata": {},
   "outputs": [],
   "source": [
    "import rioxarray # for the extension to load\n",
    "import xarray\n",
    "\n",
    "%matplotlib inline"
   ]
  },
  {
   "cell_type": "markdown",
   "metadata": {},
   "source": [
    "## Load in xarray dataset"
   ]
  },
  {
   "cell_type": "code",
   "execution_count": 2,
   "metadata": {},
   "outputs": [],
   "source": [
    "xds = xarray.open_dataarray(\"MODIS_ARRAY.nc\")"
   ]
  },
  {
   "cell_type": "code",
   "execution_count": 3,
   "metadata": {},
   "outputs": [
    {
     "data": {
      "text/plain": [
       "<xarray.DataArray (y: 200, x: 200)>\n",
       "array([[ nan,  nan,  nan, ..., 656., 656., 554.],\n",
       "       [ nan,  nan,  nan, ..., 694., 694., 642.],\n",
       "       [ nan,  nan,  nan, ..., 456., 575., 642.],\n",
       "       ...,\n",
       "       [993., 817., 817., ..., 471., 479., 498.],\n",
       "       [893., 893., 816., ..., 479., 479., 469.],\n",
       "       [816., 816., 832., ..., 515., 469., 485.]], dtype=float32)\n",
       "Coordinates:\n",
       "  * y        (y) float64 5.05e+06 5.05e+06 5.05e+06 ... 5.004e+06 5.004e+06\n",
       "  * x        (x) float64 -7.274e+06 -7.274e+06 ... -7.228e+06 -7.228e+06\n",
       "Attributes:\n",
       "    crs:        +a=6371007.181 +b=6371007.181 +lon_0=0 +no_defs +proj=sinu +u...\n",
       "    res:        [231.65635826 231.65635826]\n",
       "    is_tiled:   0\n",
       "    nodata:     -28672.0\n",
       "    transform:  [ 2.31656358e+02  0.00000000e+00 -7.27400965e+06  0.00000000e..."
      ]
     },
     "execution_count": 3,
     "metadata": {},
     "output_type": "execute_result"
    }
   ],
   "source": [
    "xds"
   ]
  },
  {
   "cell_type": "code",
   "execution_count": 4,
   "metadata": {},
   "outputs": [
    {
     "data": {
      "text/plain": [
       "<matplotlib.collections.QuadMesh at 0x7f3bf197f978>"
      ]
     },
     "execution_count": 4,
     "metadata": {},
     "output_type": "execute_result"
    },
    {
     "data": {
      "image/png": "[encoded data removed]",
      "text/plain": [
       "<Figure size 432x288 with 2 Axes>"
      ]
     },
     "metadata": {
      "needs_background": "light"
     },
     "output_type": "display_data"
    }
   ],
   "source": [
    "xds.isel(x=slice(0, 20), y=slice(0, 20)).plot()"
   ]
  },
  {
   "cell_type": "markdown",
   "metadata": {},
   "source": [
    "## Fill misssing with interpolate_na\n",
    "\n",
    "API Reference:\n",
    "\n",
    "- DataArray: [rio.interpolate_na()](../rioxarray.rst#rioxarray.raster_array.RasterArray.interpolate_na)\n",
    "- Dataset: [rio.interpolate_na()](../rioxarray.rst#rioxarray.raster_dataset.RasterDataset.interpolate_na)"
   ]
  },
  {
   "cell_type": "code",
   "execution_count": 5,
   "metadata": {},
   "outputs": [],
   "source": [
    "filled = xds.rio.interpolate_na()"
   ]
  },
  {
   "cell_type": "code",
   "execution_count": 6,
   "metadata": {},
   "outputs": [
    {
     "data": {
      "text/plain": [
       "<xarray.DataArray (y: 200, x: 200)>\n",
       "array([[673., 558., 687., ..., 656., 656., 554.],\n",
       "       [673., 558., 558., ..., 694., 694., 642.],\n",
       "       [673., 558., 558., ..., 456., 575., 642.],\n",
       "       ...,\n",
       "       [993., 817., 817., ..., 471., 479., 498.],\n",
       "       [893., 893., 816., ..., 479., 479., 469.],\n",
       "       [816., 816., 832., ..., 515., 469., 485.]], dtype=float32)\n",
       "Coordinates:\n",
       "  * y            (y) float64 5.05e+06 5.05e+06 5.05e+06 ... 5.004e+06 5.004e+06\n",
       "  * x            (x) float64 -7.274e+06 -7.274e+06 ... -7.228e+06 -7.228e+06\n",
       "    spatial_ref  int64 0\n",
       "Attributes:\n",
       "    transform:     (231.6563582639561, 0.0, -7274009.649486291, 0.0, -231.656...\n",
       "    _FillValue:    -28672.0\n",
       "    grid_mapping:  spatial_ref"
      ]
     },
     "execution_count": 6,
     "metadata": {},
     "output_type": "execute_result"
    }
   ],
   "source": [
    "filled"
   ]
  },
  {
   "cell_type": "code",
   "execution_count": 7,
   "metadata": {},
   "outputs": [
    {
     "data": {
      "text/plain": [
       "<matplotlib.collections.QuadMesh at 0x7f3bf1865860>"
      ]
     },
     "execution_count": 7,
     "metadata": {},
     "output_type": "execute_result"
    },
    {
     "data": {
      "image/png": "[encoded data removed]",
      "text/plain": [
       "<Figure size 432x288 with 2 Axes>"
      ]
     },
     "metadata": {
      "needs_background": "light"
     },
     "output_type": "display_data"
    }
   ],
   "source": [
    "filled.isel(x=slice(0, 20), y=slice(0, 20)).plot()"
   ]
  }
 ],
 "metadata": {
  "kernelspec": {
   "display_name": "Python 3",
   "language": "python",
   "name": "python3"
  },
  "language_info": {
   "codemirror_mode": {
    "name": "ipython",
    "version": 3
   },
   "file_extension": ".py",
   "mimetype": "text/x-python",
   "name": "python",
   "nbconvert_exporter": "python",
   "pygments_lexer": "ipython3",
   "version": "3.6.7"
  }
 },
 "nbformat": 4,
 "nbformat_minor": 4
}
