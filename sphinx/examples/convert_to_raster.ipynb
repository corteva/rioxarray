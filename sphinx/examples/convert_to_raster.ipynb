{
 "cells": [
  {
   "cell_type": "markdown",
   "metadata": {},
   "source": [
    "# Example - Convert dataset to raster (GeoTiff)\n",
    "\n",
    "Often, it is desirable to take a variable (band) out of your dataset and export it to a raster.\n",
    "This is possible with the `rio.to_raster()` method. It does most of the work for you so you don't\n",
    "have to.\n",
    "\n",
    "Note: The `rio.to_raster()` method only works on a 2-dimensional or 3-dimensional `xarray.DataArray`"
   ]
  },
  {
   "cell_type": "code",
   "execution_count": 1,
   "metadata": {},
   "outputs": [],
   "source": [
    "import rioxarray\n",
    "import xarray\n",
    "import re"
   ]
  },
  {
   "cell_type": "code",
   "execution_count": 2,
   "metadata": {},
   "outputs": [
    {
     "data": {
      "text/html": [
       "<pre>&lt;xarray.Dataset&gt;\n",
       "Dimensions:      (time: 2, x: 10, y: 10)\n",
       "Coordinates:\n",
       "  * time         (time) object 2016-12-19 10:27:29 2016-12-29 12:52:41.659696\n",
       "  * y            (y) float64 8.085e+06 8.085e+06 ... 8.085e+06 8.085e+06\n",
       "  * x            (x) float64 4.663e+05 4.663e+05 ... 4.663e+05 4.663e+05\n",
       "    spatial_ref  int64 0\n",
       "Data variables:\n",
       "    green        (time, y, x) float64 ...\n",
       "Attributes:\n",
       "    coordinates:  spatial_ref</pre>"
      ],
      "text/plain": [
       "<xarray.Dataset>\n",
       "Dimensions:      (time: 2, x: 10, y: 10)\n",
       "Coordinates:\n",
       "  * time         (time) object 2016-12-19 10:27:29 2016-12-29 12:52:41.659696\n",
       "  * y            (y) float64 8.085e+06 8.085e+06 ... 8.085e+06 8.085e+06\n",
       "  * x            (x) float64 4.663e+05 4.663e+05 ... 4.663e+05 4.663e+05\n",
       "    spatial_ref  int64 0\n",
       "Data variables:\n",
       "    green        (time, y, x) float64 ...\n",
       "Attributes:\n",
       "    coordinates:  spatial_ref"
      ]
     },
     "execution_count": 2,
     "metadata": {},
     "output_type": "execute_result"
    }
   ],
   "source": [
    "rds = rioxarray.open_rasterio(\n",
    "    \"../../test/test_data/input/PLANET_SCOPE_3D.nc\",\n",
    "    variable=[\"green\"],\n",
    ")\n",
    "rds"
   ]
  },
  {
   "cell_type": "code",
   "execution_count": 3,
   "metadata": {},
   "outputs": [
    {
     "data": {
      "text/plain": [
       "\u001b[0;31mSignature:\u001b[0m\n",
       "\u001b[0mrds\u001b[0m\u001b[0;34m.\u001b[0m\u001b[0mgreen\u001b[0m\u001b[0;34m.\u001b[0m\u001b[0mrio\u001b[0m\u001b[0;34m.\u001b[0m\u001b[0mto_raster\u001b[0m\u001b[0;34m(\u001b[0m\u001b[0;34m\u001b[0m\n",
       "\u001b[0;34m\u001b[0m    \u001b[0mraster_path\u001b[0m\u001b[0;34m,\u001b[0m\u001b[0;34m\u001b[0m\n",
       "\u001b[0;34m\u001b[0m    \u001b[0mdriver\u001b[0m\u001b[0;34m=\u001b[0m\u001b[0;34m'GTiff'\u001b[0m\u001b[0;34m,\u001b[0m\u001b[0;34m\u001b[0m\n",
       "\u001b[0;34m\u001b[0m    \u001b[0mdtype\u001b[0m\u001b[0;34m=\u001b[0m\u001b[0;32mNone\u001b[0m\u001b[0;34m,\u001b[0m\u001b[0;34m\u001b[0m\n",
       "\u001b[0;34m\u001b[0m    \u001b[0mtags\u001b[0m\u001b[0;34m=\u001b[0m\u001b[0;32mNone\u001b[0m\u001b[0;34m,\u001b[0m\u001b[0;34m\u001b[0m\n",
       "\u001b[0;34m\u001b[0m    \u001b[0mwindowed\u001b[0m\u001b[0;34m=\u001b[0m\u001b[0;32mFalse\u001b[0m\u001b[0;34m,\u001b[0m\u001b[0;34m\u001b[0m\n",
       "\u001b[0;34m\u001b[0m    \u001b[0mrecalc_transform\u001b[0m\u001b[0;34m=\u001b[0m\u001b[0;32mTrue\u001b[0m\u001b[0;34m,\u001b[0m\u001b[0;34m\u001b[0m\n",
       "\u001b[0;34m\u001b[0m    \u001b[0;34m**\u001b[0m\u001b[0mprofile_kwargs\u001b[0m\u001b[0;34m,\u001b[0m\u001b[0;34m\u001b[0m\n",
       "\u001b[0;34m\u001b[0m\u001b[0;34m)\u001b[0m\u001b[0;34m\u001b[0m\u001b[0;34m\u001b[0m\u001b[0m\n",
       "\u001b[0;31mDocstring:\u001b[0m\n",
       "Export the DataArray to a raster file.\n",
       "\n",
       "Parameters\n",
       "----------\n",
       "raster_path: str\n",
       "    The path to output the raster to.\n",
       "driver: str, optional\n",
       "    The name of the GDAL/rasterio driver to use to export the raster.\n",
       "    Default is \"GTiff\".\n",
       "dtype: str, optional\n",
       "    The data type to write the raster to. Default is the datasets dtype.\n",
       "tags: dict, optional\n",
       "    A dictionary of tags to write to the raster.\n",
       "windowed: bool, optional\n",
       "    If True, it will write using the windows of the output raster.\n",
       "    This only works if the output raster is tiled. As such, if you\n",
       "    set this to True, the output raster will be tiled.\n",
       "    Default is False.\n",
       "**profile_kwargs\n",
       "    Additional keyword arguments to pass into writing the raster. The\n",
       "    nodata, transform, crs, count, width, and height attributes\n",
       "    are ignored.\n",
       "\u001b[0;31mFile:\u001b[0m      ~/scripts/rioxarray/rioxarray/rioxarray.py\n",
       "\u001b[0;31mType:\u001b[0m      method\n"
      ]
     },
     "metadata": {},
     "output_type": "display_data"
    }
   ],
   "source": [
    "rds.green.rio.to_raster?"
   ]
  },
  {
   "cell_type": "code",
   "execution_count": 4,
   "metadata": {},
   "outputs": [],
   "source": [
    "rds.green.rio.to_raster(\"green_band.tif\", tiled=True, compress=\"LZMA\", windowed=True)"
   ]
  },
  {
   "cell_type": "code",
   "execution_count": 5,
   "metadata": {},
   "outputs": [
    {
     "data": {
      "text/plain": [
       "((2, 10, 10), CRS.from_dict(init='epsg:32722'), nan, (-1.5, 7.5, 10.5, 1.5))"
      ]
     },
     "execution_count": 5,
     "metadata": {},
     "output_type": "execute_result"
    }
   ],
   "source": [
    "rds.green.shape, rds.green.rio.crs, rds.green.rio.nodata, rds.green.rio.bounds()"
   ]
  },
  {
   "cell_type": "code",
   "execution_count": 6,
   "metadata": {},
   "outputs": [
    {
     "name": "stdout",
     "output_type": "stream",
     "text": [
      "{\"bounds\": [-0.5, 9.5, 9.5, -0.5], \"colorinterp\": [\"gray\", \"undefined\"], \"compress\": \"lzma\", \"count\": 2, \"crs\": \"EPSG:32722\", \"descriptions\": [null, null], \"driver\": \"GTiff\", \"dtype\": \"float64\", \"height\": 10, \"indexes\": [1, 2], \"interleave\": \"pixel\", \"lnglat\": [-141.2324487629403, -85.5261559938556], \"mask_flags\": [[\"nodata\"], [\"nodata\"]], \"nodata\": NaN, \"res\": [1.0, -1.0], \"shape\": [10, 10], \"tiled\": false, \"transform\": [1.0, 0.0, -0.5, 0.0, 1.0, -0.5, 0.0, 0.0, 1.0], \"units\": [null, null], \"width\": 10}\n"
     ]
    }
   ],
   "source": [
    "!rio info green_band.tif"
   ]
  },
  {
   "cell_type": "markdown",
   "metadata": {},
   "source": [
    "## Managing Information Loss with xarray operations\n",
    "\n",
    "Sometimes, you can lose important information from your dataset when performing operations.\n",
    "You will likely want to keep track of your `nodata` and your `CRS`."
   ]
  },
  {
   "cell_type": "code",
   "execution_count": 7,
   "metadata": {},
   "outputs": [
    {
     "data": {
      "text/plain": [
       "(OrderedDict(), CRS.from_dict(init='epsg:32722'), None)"
      ]
     },
     "execution_count": 7,
     "metadata": {},
     "output_type": "execute_result"
    }
   ],
   "source": [
    "new_ds = rds.green + rds.green\n",
    "new_ds.attrs, new_ds.rio.crs, new_ds.rio.nodata"
   ]
  },
  {
   "cell_type": "code",
   "execution_count": 8,
   "metadata": {},
   "outputs": [],
   "source": [
    "new_ds.rio.to_raster(\"combination.tif\")"
   ]
  },
  {
   "cell_type": "code",
   "execution_count": 9,
   "metadata": {},
   "outputs": [
    {
     "name": "stdout",
     "output_type": "stream",
     "text": [
      "{\"bounds\": [-0.5, 9.5, 9.5, -0.5], \"colorinterp\": [\"gray\", \"undefined\"], \"count\": 2, \"crs\": \"EPSG:32722\", \"descriptions\": [null, null], \"driver\": \"GTiff\", \"dtype\": \"float64\", \"height\": 10, \"indexes\": [1, 2], \"interleave\": \"pixel\", \"lnglat\": [-141.2324487629403, -85.5261559938556], \"mask_flags\": [[\"all_valid\"], [\"all_valid\"]], \"nodata\": null, \"res\": [1.0, -1.0], \"shape\": [10, 10], \"tiled\": false, \"transform\": [1.0, 0.0, -0.5, 0.0, 1.0, -0.5, 0.0, 0.0, 1.0], \"units\": [null, null], \"width\": 10}\n"
     ]
    }
   ],
   "source": [
    "!rio info combination.tif"
   ]
  },
  {
   "cell_type": "code",
   "execution_count": 10,
   "metadata": {},
   "outputs": [
    {
     "data": {
      "text/plain": [
       "(OrderedDict([('grid_mapping', 'spatial_ref'),\n",
       "              ('NETCDF_DIM_time', 0),\n",
       "              ('nodata', 0),\n",
       "              ('units', ('DN', 'DN')),\n",
       "              ('_FillValue', nan),\n",
       "              ('transform', (3.0, 0.0, 466266.0, 0.0, -3.0, 8084700.0)),\n",
       "              ('scales', (1.0, 1.0)),\n",
       "              ('offsets', (0.0, 0.0))]),\n",
       " CRS.from_dict(init='epsg:32722'),\n",
       " nan)"
      ]
     },
     "execution_count": 10,
     "metadata": {},
     "output_type": "execute_result"
    }
   ],
   "source": [
    "new_ds = rds.green + rds.green\n",
    "new_ds.rio.write_crs(rds.green.rio.crs, inplace=True)\n",
    "new_ds.rio.update_attrs(rds.green.attrs, inplace=True)\n",
    "new_ds.attrs, new_ds.rio.crs, new_ds.rio.nodata"
   ]
  },
  {
   "cell_type": "code",
   "execution_count": 11,
   "metadata": {},
   "outputs": [],
   "source": [
    "new_ds.rio.to_raster(\"combination_keep_attrs.tif\")"
   ]
  },
  {
   "cell_type": "code",
   "execution_count": 12,
   "metadata": {},
   "outputs": [
    {
     "name": "stdout",
     "output_type": "stream",
     "text": [
      "{\"bounds\": [-0.5, 9.5, 9.5, -0.5], \"colorinterp\": [\"gray\", \"undefined\"], \"count\": 2, \"crs\": \"EPSG:32722\", \"descriptions\": [null, null], \"driver\": \"GTiff\", \"dtype\": \"float64\", \"height\": 10, \"indexes\": [1, 2], \"interleave\": \"pixel\", \"lnglat\": [-141.2324487629403, -85.5261559938556], \"mask_flags\": [[\"nodata\"], [\"nodata\"]], \"nodata\": NaN, \"res\": [1.0, -1.0], \"shape\": [10, 10], \"tiled\": false, \"transform\": [1.0, 0.0, -0.5, 0.0, 1.0, -0.5, 0.0, 0.0, 1.0], \"units\": [null, null], \"width\": 10}\n"
     ]
    }
   ],
   "source": [
    "!rio info combination_keep_attrs.tif"
   ]
  }
 ],
 "metadata": {
  "kernelspec": {
   "display_name": "Python 3",
   "language": "python",
   "name": "python3"
  },
  "language_info": {
   "codemirror_mode": {
    "name": "ipython",
    "version": 3
   },
   "file_extension": ".py",
   "mimetype": "text/x-python",
   "name": "python",
   "nbconvert_exporter": "python",
   "pygments_lexer": "ipython3",
   "version": "3.7.3"
  }
 },
 "nbformat": 4,
 "nbformat_minor": 4
}
