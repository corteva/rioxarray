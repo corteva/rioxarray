{
 "cells": [
  {
   "cell_type": "markdown",
   "metadata": {},
   "source": [
    "# Example - Reading and Writing with Dask"
   ]
  },
  {
   "cell_type": "code",
   "execution_count": 1,
   "metadata": {},
   "outputs": [],
   "source": [
    "import multiprocessing\n",
    "# Linux/OSX:\n",
    "import multiprocessing.popen_spawn_posix\n",
    "# Windows:\n",
    "# import multiprocessing.popen_spawn_win32\n",
    "import threading\n",
    "\n",
    "from dask.distributed import Client, LocalCluster, Lock\n",
    "from dask.utils import SerializableLock\n",
    "\n",
    "import rioxarray"
   ]
  },
  {
   "cell_type": "markdown",
   "metadata": {},
   "source": [
    "When using dask for writing, you should be careful about what lock you use for your process. You need to ensure that\n",
    "you have a lock for each worker, so the more fine-grained the better.\n",
    "\n",
    "See docs for:\n",
    "\n",
    "- [rioxarray.open_rasterio](../rioxarray.rst#rioxarray-open-rasterio)\n",
    "- DataArray: [rio.to_raster()](../rioxarray.rst#rioxarray.raster_array.RasterArray.to_raster)\n",
    "- Dataset: [rio.to_raster()](../rioxarray.rst#rioxarray.raster_dataset.RasterDataset.to_raster)"
   ]
  },
  {
   "cell_type": "markdown",
   "metadata": {},
   "source": [
    "### No distrubuted computing example\n",
    "Note: Without a lock provided, `to_raster` does not use dask to write to disk."
   ]
  },
  {
   "cell_type": "code",
   "execution_count": 2,
   "metadata": {},
   "outputs": [],
   "source": [
    "xds = rioxarray.open_rasterio(\n",
    "    \"../../test/test_data/compare/small_dem_3m_merged.tif\",\n",
    "    chunks=True,\n",
    ")\n",
    "xds.rio.to_raster(\"simple_write.tif\", tiled=True)"
   ]
  },
  {
   "cell_type": "markdown",
   "metadata": {},
   "source": [
    "### Multithreaded example"
   ]
  },
  {
   "cell_type": "code",
   "execution_count": 3,
   "metadata": {},
   "outputs": [],
   "source": [
    "xds = rioxarray.open_rasterio(\n",
    "    \"../../test/test_data/compare/small_dem_3m_merged.tif\",\n",
    "    chunks=True,\n",
    ")\n",
    "xds.rio.to_raster(\"dask_thread.tif\", tiled=True, lock=threading.Lock())"
   ]
  },
  {
   "cell_type": "markdown",
   "metadata": {},
   "source": [
    "### Multiprocessing example"
   ]
  },
  {
   "cell_type": "code",
   "execution_count": 4,
   "metadata": {},
   "outputs": [],
   "source": [
    "with LocalCluster() as cluster, Client(cluster) as client:\n",
    "    mp_manager = multiprocessing.Manager()\n",
    "    xds = rioxarray.open_rasterio(\n",
    "        \"../../test/test_data/compare/small_dem_3m_merged.tif\",\n",
    "        chunks=True,\n",
    "    ).persist()\n",
    "    xds.rio.to_raster(\n",
    "        \"dask_multiprocess.tif\", tiled=True, lock=mp_manager.Lock(),\n",
    "    )"
   ]
  },
  {
   "cell_type": "markdown",
   "metadata": {},
   "source": [
    "### Multiple worker example"
   ]
  },
  {
   "cell_type": "code",
   "execution_count": 5,
   "metadata": {},
   "outputs": [],
   "source": [
    "with LocalCluster() as cluster, Client(cluster) as client:\n",
    "    xds = rioxarray.open_rasterio(\n",
    "        \"../../test/test_data/compare/small_dem_3m_merged.tif\",\n",
    "        chunks=True,\n",
    "    ).persist()\n",
    "    xds.rio.to_raster(\n",
    "        \"dask_multiworker.tif\", tiled=True, lock=Lock(\"rio\", client=client),\n",
    "    )"
   ]
  }
 ],
 "metadata": {
  "kernelspec": {
   "display_name": "Python 3",
   "language": "python",
   "name": "python3"
  },
  "language_info": {
   "codemirror_mode": {
    "name": "ipython",
    "version": 3
   },
   "file_extension": ".py",
   "mimetype": "text/x-python",
   "name": "python",
   "nbconvert_exporter": "python",
   "pygments_lexer": "ipython3",
   "version": "3.9.1"
  }
 },
 "nbformat": 4,
 "nbformat_minor": 4
}
