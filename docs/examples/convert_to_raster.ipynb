{
 "cells": [
  {
   "cell_type": "markdown",
   "metadata": {},
   "source": [
    "# Example - Convert dataset to raster (GeoTiff)\n",
    "\n",
    "Often, it is desirable to take a variable (band) out of your dataset and export it to a raster.\n",
    "This is possible with the `rio.to_raster()`method. It does most of the work for you so you don't\n",
    "have to.\n",
    "\n",
    "Note: The `rio.to_raster()` method only works on a 2-dimensional or 3-dimensional `xarray.DataArray` or a 2-dimensional `xarray.Dataset`.\n",
    "\n",
    "API Reference:\n",
    "\n",
    "- DataArray: [rio.to_raster()](../rioxarray.rst#rioxarray.rioxarray.RasterArray.to_raster)\n",
    "- Dataset: [rio.to_raster()](../rioxarray.rst#rioxarray.rioxarray.RasterDataset.to_raster)\n"
   ]
  },
  {
   "cell_type": "code",
   "execution_count": 1,
   "metadata": {},
   "outputs": [],
   "source": [
    "import rioxarray"
   ]
  },
  {
   "cell_type": "markdown",
   "metadata": {},
   "source": [
    "See docs for [rioxarray.open_rasterio](../rioxarray.rst#rioxarray-open-rasterio)"
   ]
  },
  {
   "cell_type": "code",
   "execution_count": 2,
   "metadata": {},
   "outputs": [
    {
     "data": {
      "text/html": [
       "<pre>&lt;xarray.Dataset&gt;\n",
       "Dimensions:      (time: 2, x: 10, y: 10)\n",
       "Coordinates:\n",
       "  * y            (y) float64 8.085e+06 8.085e+06 ... 8.085e+06 8.085e+06\n",
       "  * x            (x) float64 4.663e+05 4.663e+05 ... 4.663e+05 4.663e+05\n",
       "  * time         (time) object 2016-12-19 10:27:29 2016-12-29 12:52:41.659696\n",
       "    spatial_ref  int64 0\n",
       "Data variables:\n",
       "    blue         (time, y, x) float64 ...\n",
       "    green        (time, y, x) float64 ...\n",
       "Attributes:\n",
       "    coordinates:  spatial_ref</pre>"
      ],
      "text/plain": [
       "<xarray.Dataset>\n",
       "Dimensions:      (time: 2, x: 10, y: 10)\n",
       "Coordinates:\n",
       "  * y            (y) float64 8.085e+06 8.085e+06 ... 8.085e+06 8.085e+06\n",
       "  * x            (x) float64 4.663e+05 4.663e+05 ... 4.663e+05 4.663e+05\n",
       "  * time         (time) object 2016-12-19 10:27:29 2016-12-29 12:52:41.659696\n",
       "    spatial_ref  int64 0\n",
       "Data variables:\n",
       "    blue         (time, y, x) float64 ...\n",
       "    green        (time, y, x) float64 ...\n",
       "Attributes:\n",
       "    coordinates:  spatial_ref"
      ]
     },
     "execution_count": 2,
     "metadata": {},
     "output_type": "execute_result"
    }
   ],
   "source": [
    "rds = rioxarray.open_rasterio(\n",
    "    \"../../test/test_data/input/PLANET_SCOPE_3D.nc\",\n",
    ")\n",
    "rds"
   ]
  },
  {
   "cell_type": "markdown",
   "metadata": {},
   "source": [
    "## Converting Dataset to raster\n",
    "\n",
    "Dataset: [rio.to_raster()](../rioxarray.rst#rioxarray.rioxarray.RasterDataset.to_raster)"
   ]
  },
  {
   "cell_type": "code",
   "execution_count": 3,
   "metadata": {},
   "outputs": [],
   "source": [
    "# note how one time slice was selected on export to make the dataset 2D\n",
    "rds.isel(time=0).rio.to_raster(\"planet_scope.tif\")"
   ]
  },
  {
   "cell_type": "code",
   "execution_count": 4,
   "metadata": {},
   "outputs": [
    {
     "name": "stdout",
     "output_type": "stream",
     "text": [
      "{\"bounds\": [466266.0, 8084670.0, 466296.0, 8084700.0], \"colorinterp\": [\"gray\", \"undefined\"], \"count\": 2, \"crs\": \"EPSG:32722\", \"descriptions\": [\"blue\", \"green\"], \"driver\": \"GTiff\", \"dtype\": \"float64\", \"height\": 10, \"indexes\": [1, 2], \"interleave\": \"pixel\", \"lnglat\": [-51.31732641226951, -17.322997474192466], \"mask_flags\": [[\"nodata\"], [\"nodata\"]], \"nodata\": NaN, \"res\": [3.0, 3.0], \"shape\": [10, 10], \"tiled\": false, \"transform\": [3.0, 0.0, 466266.0, 0.0, -3.0, 8084700.0, 0.0, 0.0, 1.0], \"units\": [null, null], \"width\": 10}\n"
     ]
    }
   ],
   "source": [
    "!rio info planet_scope.tif"
   ]
  },
  {
   "cell_type": "markdown",
   "metadata": {},
   "source": [
    "## Converting DataArray to raster\n",
    "\n",
    "DataArray: [rio.to_raster()](../rioxarray.rst#rioxarray.rioxarray.RasterArray.to_raster)"
   ]
  },
  {
   "cell_type": "code",
   "execution_count": 5,
   "metadata": {},
   "outputs": [],
   "source": [
    "# note how selecting one variable allowed for multiple time steps in a single raster\n",
    "rds.green.rio.to_raster(\"planet_scope_green.tif\")"
   ]
  },
  {
   "cell_type": "code",
   "execution_count": 6,
   "metadata": {},
   "outputs": [
    {
     "name": "stdout",
     "output_type": "stream",
     "text": [
      "{\"bounds\": [466266.0, 8084670.0, 466296.0, 8084700.0], \"colorinterp\": [\"gray\", \"undefined\"], \"count\": 2, \"crs\": \"EPSG:32722\", \"descriptions\": [\"green\", \"green\"], \"driver\": \"GTiff\", \"dtype\": \"float64\", \"height\": 10, \"indexes\": [1, 2], \"interleave\": \"pixel\", \"lnglat\": [-51.31732641226951, -17.322997474192466], \"mask_flags\": [[\"nodata\"], [\"nodata\"]], \"nodata\": NaN, \"res\": [3.0, 3.0], \"shape\": [10, 10], \"tiled\": false, \"transform\": [3.0, 0.0, 466266.0, 0.0, -3.0, 8084700.0, 0.0, 0.0, 1.0], \"units\": [null, null], \"width\": 10}\n"
     ]
    }
   ],
   "source": [
    "!rio info planet_scope_green.tif"
   ]
  }
 ],
 "metadata": {
  "kernelspec": {
   "display_name": "Python 3",
   "language": "python",
   "name": "python3"
  },
  "language_info": {
   "codemirror_mode": {
    "name": "ipython",
    "version": 3
   },
   "file_extension": ".py",
   "mimetype": "text/x-python",
   "name": "python",
   "nbconvert_exporter": "python",
   "pygments_lexer": "ipython3",
   "version": "3.7.3"
  }
 },
 "nbformat": 4,
 "nbformat_minor": 4
}
